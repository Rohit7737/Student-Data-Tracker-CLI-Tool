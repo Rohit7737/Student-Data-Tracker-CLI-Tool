{
 "cells": [
  {
   "cell_type": "code",
   "execution_count": 1,
   "id": "fa326d65-03ff-4dc3-b45e-94597d455f22",
   "metadata": {},
   "outputs": [
    {
     "name": "stdout",
     "output_type": "stream",
     "text": [
      "1. Add student\n",
      "2. Show all\n",
      "3. Show averages\n",
      "4. Save to file\n",
      "5. Exit\n"
     ]
    },
    {
     "name": "stdin",
     "output_type": "stream",
     "text": [
      "Enter choice:  Rohit\n"
     ]
    },
    {
     "name": "stdout",
     "output_type": "stream",
     "text": [
      "Wrong input.\n",
      "\n",
      "1. Add student\n",
      "2. Show all\n",
      "3. Show averages\n",
      "4. Save to file\n",
      "5. Exit\n"
     ]
    },
    {
     "name": "stdin",
     "output_type": "stream",
     "text": [
      "Enter choice:  1\n",
      "Enter name:  Rohit\n",
      "Enter roll no:  22437534\n",
      "Marks for subject 1:  23\n",
      "Marks for subject 2:  43\n",
      "Marks for subject 3:  3\n"
     ]
    },
    {
     "name": "stdout",
     "output_type": "stream",
     "text": [
      "Student added.\n",
      "\n",
      "1. Add student\n",
      "2. Show all\n",
      "3. Show averages\n",
      "4. Save to file\n",
      "5. Exit\n"
     ]
    },
    {
     "name": "stdin",
     "output_type": "stream",
     "text": [
      "Enter choice:  2\n"
     ]
    },
    {
     "name": "stdout",
     "output_type": "stream",
     "text": [
      "Name: Rohit\n",
      "Roll: 22437534\n",
      "Marks: 23.0 43.0 3.0\n",
      "------\n",
      "1. Add student\n",
      "2. Show all\n",
      "3. Show averages\n",
      "4. Save to file\n",
      "5. Exit\n"
     ]
    },
    {
     "name": "stdin",
     "output_type": "stream",
     "text": [
      "Enter choice:  3\n"
     ]
    },
    {
     "name": "stdout",
     "output_type": "stream",
     "text": [
      "Rohit Average: 23.0\n",
      "1. Add student\n",
      "2. Show all\n",
      "3. Show averages\n",
      "4. Save to file\n",
      "5. Exit\n"
     ]
    },
    {
     "name": "stdin",
     "output_type": "stream",
     "text": [
      "Enter choice:  4\n"
     ]
    },
    {
     "name": "stdout",
     "output_type": "stream",
     "text": [
      "Saved to students.csv\n",
      "\n",
      "1. Add student\n",
      "2. Show all\n",
      "3. Show averages\n",
      "4. Save to file\n",
      "5. Exit\n"
     ]
    },
    {
     "name": "stdin",
     "output_type": "stream",
     "text": [
      "Enter choice:  5\n"
     ]
    },
    {
     "name": "stdout",
     "output_type": "stream",
     "text": [
      "Program ended.\n"
     ]
    }
   ],
   "source": [
    "# List to store student info\n",
    "students = []\n",
    "\n",
    "def add_student():\n",
    "    name = input(\"Enter name: \")\n",
    "    roll = input(\"Enter roll no: \")\n",
    "\n",
    "    try:\n",
    "        s1 = float(input(\"Marks for subject 1: \"))\n",
    "        s2 = float(input(\"Marks for subject 2: \"))\n",
    "        s3 = float(input(\"Marks for subject 3: \"))\n",
    "    except:\n",
    "        print(\"Please enter number only.\\n\")\n",
    "        return\n",
    "\n",
    "    students.append([name, roll, s1, s2, s3])\n",
    "    print(\"Student added.\\n\")\n",
    "\n",
    "def show_all():\n",
    "    if students == []:\n",
    "        print(\"No students added.\\n\")\n",
    "        return\n",
    "    for s in students:\n",
    "        print(\"Name:\", s[0])\n",
    "        print(\"Roll:\", s[1])\n",
    "        print(\"Marks:\", s[2], s[3], s[4])\n",
    "        print(\"------\")\n",
    "\n",
    "def show_avg():\n",
    "    if students == []:\n",
    "        print(\"No data.\\n\")\n",
    "        return\n",
    "    for s in students:\n",
    "        avg = (s[2] + s[3] + s[4]) / 3\n",
    "        print(s[0], \"Average:\", avg)\n",
    "\n",
    "def save_file():\n",
    "    try:\n",
    "        f = open(\"students.csv\", \"w\")\n",
    "        f.write(\"Name,Roll,Sub1,Sub2,Sub3\\n\")\n",
    "        for s in students:\n",
    "            f.write(f\"{s[0]},{s[1]},{s[2]},{s[3]},{s[4]}\\n\")\n",
    "        f.close()\n",
    "        print(\"Saved to students.csv\\n\")\n",
    "    except:\n",
    "        print(\"Error saving file.\\n\")\n",
    "\n",
    "def menu():\n",
    "    while True:\n",
    "        print(\"1. Add student\")\n",
    "        print(\"2. Show all\")\n",
    "        print(\"3. Show averages\")\n",
    "        print(\"4. Save to file\")\n",
    "        print(\"5. Exit\")\n",
    "        ch = input(\"Enter choice: \")\n",
    "\n",
    "        if ch == \"1\":\n",
    "            add_student()\n",
    "        elif ch == \"2\":\n",
    "            show_all()\n",
    "        elif ch == \"3\":\n",
    "            show_avg()\n",
    "        elif ch == \"4\":\n",
    "            save_file()\n",
    "        elif ch == \"5\":\n",
    "            print(\"Program ended.\")\n",
    "            break\n",
    "        else:\n",
    "            print(\"Wrong input.\\n\")\n",
    "\n",
    "menu()\n"
   ]
  },
  {
   "cell_type": "code",
   "execution_count": null,
   "id": "fd4407c7-4417-41ea-bf1c-eb6a2926dace",
   "metadata": {},
   "outputs": [],
   "source": []
  }
 ],
 "metadata": {
  "kernelspec": {
   "display_name": "Python 3 (ipykernel)",
   "language": "python",
   "name": "python3"
  },
  "language_info": {
   "codemirror_mode": {
    "name": "ipython",
    "version": 3
   },
   "file_extension": ".py",
   "mimetype": "text/x-python",
   "name": "python",
   "nbconvert_exporter": "python",
   "pygments_lexer": "ipython3",
   "version": "3.12.7"
  }
 },
 "nbformat": 4,
 "nbformat_minor": 5
}
